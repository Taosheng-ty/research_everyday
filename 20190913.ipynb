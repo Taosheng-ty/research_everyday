{
 "cells": [
  {
   "cell_type": "code",
   "execution_count": null,
   "metadata": {},
   "outputs": [
    {
     "name": "stdout",
     "output_type": "stream",
     "text": [
      "svm_rank/svm_rank_learn -c 200 yahoodata/set1.train.txt output_svmrank/model.dat\r\n",
      "Reading training examples..."
     ]
    }
   ],
   "source": [
    "!python2 SVM_rank_py/initial_ranking_with_svm_rank_yahoo.py svm_rank/  yahoodata/set1.train.txt  yahoodata/set1.valid.txt yahoodata/set1.test.txt output_svmrank_yahoo/"
   ]
  },
  {
   "cell_type": "code",
   "execution_count": 3,
   "metadata": {},
   "outputs": [],
   "source": [
    "import Tao_lib.IR as IR"
   ]
  },
  {
   "cell_type": "code",
   "execution_count": null,
   "metadata": {},
   "outputs": [],
   "source": [
    "data=IR.np_Read_qd.np_Read_qd(\"yahoodata/set1.valid.txt\")\n",
    "data_ranked=IR.np_Read_qd.np_Read_qd(\"output_svmrank_yahoo/valid.predict\")\n",
    "data_test=IR.np_Read_qd.np_Read_qd(\"yahoodata/set1.test.txt\")\n",
    "data_ranked_text=IR.np_Read_qd.np_Read_qd(\"output_svmrank_yahoo/test.predict\")"
   ]
  },
  {
   "cell_type": "code",
   "execution_count": null,
   "metadata": {},
   "outputs": [],
   "source": [
    "print(data[1,:])\n",
    "print(data_ranked.shape)"
   ]
  },
  {
   "cell_type": "code",
   "execution_count": null,
   "metadata": {},
   "outputs": [],
   "source": [
    "import numpy as np\n",
    "aver=0\n",
    "data_ranked1=data_ranked_test[:,0]\n",
    "print(data_ranked1.shape)\n",
    "unique_indice=np.unique(data_test[:,1])\n",
    "n=0\n",
    "m=0\n",
    "def batch_NDCG(data_file,data_ranked_file,K=1):\n",
    "    n=0\n",
    "    m=0\n",
    "    aver=0\n",
    "    data=IR.np_Read_qd.np_Read_qd(data_file)\n",
    "    data_ranked=IR.np_Read_qd.np_Read_qd(data_ranked_file)\n",
    "    data_ranked_flat=data_ranked[:,0]\n",
    "    unique_indice=np.unique(data[:,1])\n",
    "    for i in range(unique_indice.shape[0]):\n",
    "        #print(unique_indice[i])\n",
    "        ind=np.where(data[:,1]==unique_indice[i])\n",
    "        #print(ind)\n",
    "        #print(data_ranked[ind,:])\n",
    "        score_=data_ranked_flat[ind]\n",
    "        scores_ind=np.argsort(-score_)\n",
    "\n",
    "        #print(score_[scores_ind])\n",
    "        #print(scores_ind)\n",
    "        correl=data[:,0][ind]\n",
    "        #print(np.unique(correl))\n",
    "        if np.unique(correl).shape[0]==1:\n",
    "\n",
    "            continue\n",
    "        n=n+1\n",
    "        #print(correl)\n",
    "        ordered_list=correl[scores_ind]\n",
    "        if ordered_list[0]==np.max(correl):\n",
    "            m=m+1\n",
    "\n",
    "        #print(ordered_list)\n",
    "        #print(ordered_list)\n",
    "        g=IR.NDCG.ndcg(ordered_list,K)\n",
    "        aver=aver+g\n",
    "        #print(g)\n",
    "    if K==1:\n",
    "        print(\"top 1 accuracy is\",float(m)/n)\n",
    "    aver1=aver/n\n",
    "    return aver1\n",
    "    \n",
    "    \n",
    "    \n",
    "    \n",
    "    \n",
    "\n"
   ]
  },
  {
   "cell_type": "code",
   "execution_count": null,
   "metadata": {},
   "outputs": [],
   "source": [
    "def batch_NDCG(data_file,data_ranked_file,K=1):\n",
    "    n=0\n",
    "    m=0\n",
    "    aver=0\n",
    "    data=IR.np_Read_qd.np_Read_qd(data_file)\n",
    "    data_ranked=IR.np_Read_qd.np_Read_qd(data_ranked_file)\n",
    "    data_ranked_flat=data_ranked[:,0]\n",
    "    unique_indice=np.unique(data[:,1])\n",
    "    for i in range(unique_indice.shape[0]):\n",
    "        #print(unique_indice[i])\n",
    "        ind=np.where(data[:,1]==unique_indice[i])\n",
    "        #print(ind)\n",
    "        #print(data_ranked[ind,:])\n",
    "        score_=data_ranked_flat[ind]\n",
    "        scores_ind=np.argsort(-score_)\n",
    "\n",
    "        #print(score_[scores_ind])\n",
    "        #print(scores_ind)\n",
    "        correl=data[:,0][ind]\n",
    "        #print(np.unique(correl))\n",
    "        if np.unique(correl).shape[0]==1:\n",
    "\n",
    "            continue\n",
    "        n=n+1\n",
    "        #print(correl)\n",
    "        ordered_list=correl[scores_ind]\n",
    "        if ordered_list[0]==np.max(correl):\n",
    "            m=m+1\n",
    "\n",
    "        #print(ordered_list)\n",
    "        #print(ordered_list)\n",
    "        g=IR.NDCG.ndcg(ordered_list,K)\n",
    "        aver=aver+g\n",
    "        #print(g)\n",
    "    \n",
    "    print(\"for top 1 is\",m,\"out of \",n,\"is correct, and the accuracy is \",float(m)/n)\n",
    "    aver1=aver/n\n",
    "    return aver1"
   ]
  },
  {
   "cell_type": "code",
   "execution_count": 1,
   "metadata": {},
   "outputs": [],
   "source": [
    "import numpy as np"
   ]
  },
  {
   "cell_type": "code",
   "execution_count": 2,
   "metadata": {},
   "outputs": [
    {
     "name": "stdout",
     "output_type": "stream",
     "text": [
      "processing for top 1  NDCG\n",
      "for top 1 is 3477 out of  6561 is correct, and the accuracy is  0.5299497027892089\n",
      "processing for top 2  NDCG\n",
      "for top 1 is 3477 out of  6561 is correct, and the accuracy is  0.5299497027892089\n",
      "processing for top 3  NDCG\n",
      "for top 1 is 3477 out of  6561 is correct, and the accuracy is  0.5299497027892089\n",
      "processing for top 4  NDCG\n",
      "for top 1 is 3477 out of  6561 is correct, and the accuracy is  0.5299497027892089\n",
      "processing for top 5  NDCG\n",
      "for top 1 is 3477 out of  6561 is correct, and the accuracy is  0.5299497027892089\n",
      "processing for top 6  NDCG\n",
      "for top 1 is 3477 out of  6561 is correct, and the accuracy is  0.5299497027892089\n",
      "processing for top 7  NDCG\n",
      "for top 1 is 3477 out of  6561 is correct, and the accuracy is  0.5299497027892089\n",
      "processing for top 8  NDCG\n",
      "for top 1 is 3477 out of  6561 is correct, and the accuracy is  0.5299497027892089\n",
      "processing for top 9  NDCG\n",
      "for top 1 is 3477 out of  6561 is correct, and the accuracy is  0.5299497027892089\n"
     ]
    }
   ],
   "source": [
    "import Tao_lib.IR as IR\n",
    "\n",
    "   \n",
    "hh=IR.batch_NDCG.batch_NDCG(\"yahoodata/set1.test.txt\",\"output_svmrank/test.predict\",K=np.arange(1,10))\n",
    "    "
   ]
  },
  {
   "cell_type": "code",
   "execution_count": 9,
   "metadata": {},
   "outputs": [
    {
     "name": "stdout",
     "output_type": "stream",
     "text": [
      "[0.64979787 0.65479128 0.66398268 0.67649596 0.68960483 0.70296654\n",
      " 0.71461898 0.72506344 0.7347475 ]\n"
     ]
    }
   ],
   "source": [
    "print(hh)\n",
    "hh=np.array(hh)"
   ]
  },
  {
   "cell_type": "code",
   "execution_count": 20,
   "metadata": {},
   "outputs": [
    {
     "data": {
      "image/png": "[encoded data removed]",
      "text/plain": [
       "<Figure size 432x288 with 1 Axes>"
      ]
     },
     "metadata": {
      "needs_background": "light"
     },
     "output_type": "display_data"
    }
   ],
   "source": [
    "import matplotlib.pyplot as plt\n",
    "\n",
    "fig, ax = plt.subplots()\n",
    "ax.plot(np.arange(hh.shape[0])+1,hh,label=\"NDCG(k)of set1_test for yahoo ltrc(421M)\\n with method svm_rank\")\n",
    "ax.legend()\n",
    "plt.show()"
   ]
  },
  {
   "cell_type": "code",
   "execution_count": 5,
   "metadata": {},
   "outputs": [
    {
     "data": {
      "text/plain": [
       "0.5259232954545454"
      ]
     },
     "execution_count": 5,
     "metadata": {},
     "output_type": "execute_result"
    }
   ],
   "source": [
    "1481/2816.0\n"
   ]
  },
  {
   "cell_type": "code",
   "execution_count": 8,
   "metadata": {},
   "outputs": [
    {
     "data": {
      "text/plain": [
       "array([ 0,  1,  2,  3,  4,  5,  6,  7,  8,  9, 10, 11, 12, 13, 14, 15, 16,\n",
       "       17, 18])"
      ]
     },
     "execution_count": 8,
     "metadata": {},
     "output_type": "execute_result"
    }
   ],
   "source": [
    "np.arange(19)"
   ]
  },
  {
   "cell_type": "code",
   "execution_count": 130,
   "metadata": {
    "scrolled": false
   },
   "outputs": [
    {
     "name": "stdout",
     "output_type": "stream",
     "text": [
      "svm_rank/svm_rank_learn -c 200 MSLR_10k/Fold1/train.txt_sorted output_svmrank_mslr_ten/model.dat\n",
      "Reading training examples...^C\n",
      "svm_rank/svm_rank_classify MSLR_10k/Fold1/train.txt_sorted output_svmrank_mslr_ten/model.dat output_svmrank_mslr_ten/train.predict\n",
      "Reading model...output_svmrank_mslr_ten/model.dat: No such file or directory\n",
      "svm_rank/svm_rank_classify MSLR_10k/Fold1/valid.txt_sorted output_svmrank_mslr_ten/model.dat output_svmrank_mslr_ten/valid.predict\n",
      "Reading model...output_svmrank_mslr_ten/model.dat: No such file or directory\n",
      "svm_rank/svm_rank_classify MSLR_10k/Fold1/test.txt_sorted output_svmrank_mslr_ten/model.dat output_svmrank_mslr_ten/test.predict\n",
      "Reading model...output_svmrank_mslr_ten/model.dat: No such file or directory\n"
     ]
    }
   ],
   "source": [
    "!python2 SVM_rank_py/initial_ranking_with_svm_rank_yahoo.py svm_rank/  MSLR_10k/Fold1/train.txt_sorted  MSLR_10k/Fold1/valid.txt_sorted MSLR_10k/Fold1/test.txt_sorted output_svmrank_mslr_ten/"
   ]
  },
  {
   "cell_type": "code",
   "execution_count": 130,
   "metadata": {
    "scrolled": false
   },
   "outputs": [
    {
     "name": "stdout",
     "output_type": "stream",
     "text": [
      "svm_rank/svm_rank_learn -c 200 MSLR_10k/Fold1/train.txt_sorted output_svmrank_mslr_ten/model.dat\n",
      "Reading training examples...^C\n",
      "svm_rank/svm_rank_classify MSLR_10k/Fold1/train.txt_sorted output_svmrank_mslr_ten/model.dat output_svmrank_mslr_ten/train.predict\n",
      "Reading model...output_svmrank_mslr_ten/model.dat: No such file or directory\n",
      "svm_rank/svm_rank_classify MSLR_10k/Fold1/valid.txt_sorted output_svmrank_mslr_ten/model.dat output_svmrank_mslr_ten/valid.predict\n",
      "Reading model...output_svmrank_mslr_ten/model.dat: No such file or directory\n",
      "svm_rank/svm_rank_classify MSLR_10k/Fold1/test.txt_sorted output_svmrank_mslr_ten/model.dat output_svmrank_mslr_ten/test.predict\n",
      "Reading model...output_svmrank_mslr_ten/model.dat: No such file or directory\n"
     ]
    }
   ],
   "source": [
    "!python2 SVM_rank_py/initial_ranking_with_svm_rank_yahoo.py svm_rank/  MSLR_10k/Fold1/train.txt_sorted  MSLR_10k/Fold1/valid.txt_sorted MSLR_10k/Fold1/test.txt_sorted output_svmrank_mslr_ten/"
   ]
  },
  {
   "cell_type": "code",
   "execution_count": null,
   "metadata": {},
   "outputs": [],
   "source": []
  },
  {
   "cell_type": "code",
   "execution_count": null,
   "metadata": {},
   "outputs": [],
   "source": []
  },
  {
   "cell_type": "code",
   "execution_count": 123,
   "metadata": {},
   "outputs": [
    {
     "name": "stdout",
     "output_type": "stream",
     "text": [
      "['qid:157' 'qid:157' 'qid:157' 'qid:157' 'qid:157' 'qid:157' 'qid:157'\n",
      " 'qid:157' 'qid:157' 'qid:157' 'qid:157' 'qid:157' 'qid:157' 'qid:157'\n",
      " 'qid:157' 'qid:157' 'qid:157' 'qid:157' 'qid:157' 'qid:157' 'qid:142'\n",
      " 'qid:142' 'qid:142' 'qid:142' 'qid:142' 'qid:142' 'qid:142' 'qid:142'\n",
      " 'qid:142' 'qid:142' 'qid:142' 'qid:142' 'qid:142' 'qid:142' 'qid:142'\n",
      " 'qid:142' 'qid:142' 'qid:142' 'qid:142' 'qid:142' 'qid:142' 'qid:142'\n",
      " 'qid:157' 'qid:157' 'qid:157' 'qid:157' 'qid:157' 'qid:157' 'qid:157'\n",
      " 'qid:157' 'qid:157' 'qid:157' 'qid:157' 'qid:157' 'qid:172' 'qid:172'\n",
      " 'qid:172' 'qid:172' 'qid:172' 'qid:172' 'qid:172' 'qid:172' 'qid:157'\n",
      " 'qid:157' 'qid:157' 'qid:157' 'qid:157' 'qid:157' 'qid:157' 'qid:157'\n",
      " 'qid:157' 'qid:157' 'qid:157' 'qid:157' 'qid:157' 'qid:157' 'qid:157'\n",
      " 'qid:157' 'qid:157' 'qid:157' 'qid:157' 'qid:157' 'qid:157' 'qid:157'\n",
      " 'qid:157' 'qid:172' 'qid:142' 'qid:142' 'qid:142' 'qid:142' 'qid:142'\n",
      " 'qid:142' 'qid:142' 'qid:142' 'qid:142' 'qid:142' 'qid:142' 'qid:142'\n",
      " 'qid:142' 'qid:142' 'qid:142' 'qid:142' 'qid:142' 'qid:142' 'qid:142'\n",
      " 'qid:142' 'qid:142' 'qid:142' 'qid:142' 'qid:142' 'qid:142' 'qid:142'\n",
      " 'qid:142' 'qid:142' 'qid:142' 'qid:142' 'qid:142' 'qid:142' 'qid:142'\n",
      " 'qid:142' 'qid:142' 'qid:142' 'qid:142' 'qid:142' 'qid:142' 'qid:142'\n",
      " 'qid:142' 'qid:142' 'qid:142' 'qid:142' 'qid:142' 'qid:142' 'qid:142'\n",
      " 'qid:142' 'qid:142' 'qid:142' 'qid:142' 'qid:142' 'qid:142' 'qid:142'\n",
      " 'qid:142' 'qid:142' 'qid:142' 'qid:142' 'qid:142' 'qid:142' 'qid:142'\n",
      " 'qid:142' 'qid:142' 'qid:142' 'qid:142' 'qid:142' 'qid:142' 'qid:142'\n",
      " 'qid:142' 'qid:142' 'qid:142' 'qid:142' 'qid:142' 'qid:142' 'qid:142'\n",
      " 'qid:142' 'qid:142' 'qid:142' 'qid:142' 'qid:142' 'qid:142' 'qid:142'\n",
      " 'qid:142' 'qid:142' 'qid:142' 'qid:142' 'qid:142' 'qid:172' 'qid:172'\n",
      " 'qid:172' 'qid:187' 'qid:187' 'qid:187' 'qid:187' 'qid:187' 'qid:187'\n",
      " 'qid:187' 'qid:187' 'qid:187' 'qid:187' 'qid:187' 'qid:187' 'qid:187'\n",
      " 'qid:187' 'qid:187' 'qid:187' 'qid:187' 'qid:187' 'qid:187' 'qid:187'\n",
      " 'qid:187' 'qid:187' 'qid:172' 'qid:187' 'qid:187' 'qid:187' 'qid:187'\n",
      " 'qid:187' 'qid:187' 'qid:187' 'qid:187' 'qid:187' 'qid:187' 'qid:187'\n",
      " 'qid:187' 'qid:187' 'qid:187' 'qid:187' 'qid:187' 'qid:187' 'qid:187'\n",
      " 'qid:172' 'qid:187' 'qid:187' 'qid:187' 'qid:187' 'qid:187' 'qid:187'\n",
      " 'qid:187' 'qid:187' 'qid:187' 'qid:187' 'qid:187' 'qid:187' 'qid:187'\n",
      " 'qid:187' 'qid:187' 'qid:187' 'qid:187' 'qid:187' 'qid:187' 'qid:187'\n",
      " 'qid:187' 'qid:187' 'qid:187' 'qid:187' 'qid:187' 'qid:187' 'qid:187'\n",
      " 'qid:187' 'qid:187' 'qid:187' 'qid:187' 'qid:187' 'qid:187' 'qid:187'\n",
      " 'qid:187' 'qid:187' 'qid:187' 'qid:187' 'qid:187' 'qid:187' 'qid:187'\n",
      " 'qid:187' 'qid:187' 'qid:172' 'qid:172' 'qid:172' 'qid:172' 'qid:172'\n",
      " 'qid:172' 'qid:172' 'qid:172' 'qid:172' 'qid:172' 'qid:172' 'qid:172'\n",
      " 'qid:172' 'qid:172' 'qid:172' 'qid:172' 'qid:172' 'qid:172' 'qid:172'\n",
      " 'qid:172' 'qid:172' 'qid:172' 'qid:172' 'qid:172' 'qid:172' 'qid:172'\n",
      " 'qid:172' 'qid:172' 'qid:172' 'qid:172' 'qid:172' 'qid:172' 'qid:172'\n",
      " 'qid:172' 'qid:172' 'qid:172' 'qid:172' 'qid:172']\n"
     ]
    }
   ],
   "source": [
    "print(data[1:300,1])"
   ]
  },
  {
   "cell_type": "code",
   "execution_count": 121,
   "metadata": {},
   "outputs": [],
   "source": [
    "##make data qid increase in order.\n",
    "data=IR.np_Read_qd.np_Read_qd(\"MSLR_10k/Fold1/train.txt_sorted\")"
   ]
  },
  {
   "cell_type": "code",
   "execution_count": 8,
   "metadata": {},
   "outputs": [],
   "source": [
    "import numpy as np\n",
    "#np.savetxt('MSLR_10k/Fold1/train_sort.txt', data, delimiter=' ') \n",
    "np.savetxt('MSLR_10k/Fold1/train_sort.txt', data, delimiter=\" \", fmt=\"%s\") "
   ]
  },
  {
   "cell_type": "code",
   "execution_count": 9,
   "metadata": {},
   "outputs": [],
   "source": [
    "data_sort=IR.np_Read_qd.np_Read_qd(\"MSLR_10k/Fold1/train_sort.txt\")"
   ]
  },
  {
   "cell_type": "code",
   "execution_count": 10,
   "metadata": {},
   "outputs": [
    {
     "name": "stdout",
     "output_type": "stream",
     "text": [
      "(723412, 139)\n"
     ]
    }
   ],
   "source": [
    "print(data_sort.shape)"
   ]
  },
  {
   "cell_type": "code",
   "execution_count": 11,
   "metadata": {},
   "outputs": [
    {
     "name": "stdout",
     "output_type": "stream",
     "text": [
      "(723412, 139)\n"
     ]
    }
   ],
   "source": [
    "print(data.shape)"
   ]
  },
  {
   "cell_type": "code",
   "execution_count": 18,
   "metadata": {},
   "outputs": [
    {
     "ename": "TypeError",
     "evalue": "string operation on non-string array",
     "output_type": "error",
     "traceback": [
      "\u001b[0;31m---------------------------------------------------------------------------\u001b[0m",
      "\u001b[0;31mTypeError\u001b[0m                                 Traceback (most recent call last)",
      "\u001b[0;32m<ipython-input-18-894eeda178da>\u001b[0m in \u001b[0;36m<module>\u001b[0;34m\u001b[0m\n\u001b[1;32m      1\u001b[0m \u001b[0mgg\u001b[0m\u001b[0;34m=\u001b[0m\u001b[0mdata\u001b[0m\u001b[0;34m[\u001b[0m\u001b[0;34m:\u001b[0m\u001b[0;34m,\u001b[0m\u001b[0;36m1\u001b[0m\u001b[0;34m]\u001b[0m\u001b[0;34m\u001b[0m\u001b[0m\n\u001b[0;32m----> 2\u001b[0;31m \u001b[0mprint\u001b[0m\u001b[0;34m(\u001b[0m\u001b[0mnp\u001b[0m\u001b[0;34m.\u001b[0m\u001b[0mchar\u001b[0m\u001b[0;34m.\u001b[0m\u001b[0msplit\u001b[0m\u001b[0;34m(\u001b[0m\u001b[0mgg\u001b[0m\u001b[0;34m,\u001b[0m\u001b[0msep\u001b[0m\u001b[0;34m=\u001b[0m\u001b[0;34m\":\"\u001b[0m\u001b[0;34m)\u001b[0m\u001b[0;34m)\u001b[0m\u001b[0;34m\u001b[0m\u001b[0m\n\u001b[0m",
      "\u001b[0;32m<__array_function__ internals>\u001b[0m in \u001b[0;36msplit\u001b[0;34m(*args, **kwargs)\u001b[0m\n",
      "\u001b[0;32m/usr/local/stow/python/amd64_linux26/python-3.6/lib/python3.6/site-packages/numpy/core/defchararray.py\u001b[0m in \u001b[0;36msplit\u001b[0;34m(a, sep, maxsplit)\u001b[0m\n\u001b[1;32m   1437\u001b[0m     \u001b[0;31m# leave it as an object array\u001b[0m\u001b[0;34m\u001b[0m\u001b[0;34m\u001b[0m\u001b[0m\n\u001b[1;32m   1438\u001b[0m     return _vec_string(\n\u001b[0;32m-> 1439\u001b[0;31m         a, object_, 'split', [sep] + _clean_args(maxsplit))\n\u001b[0m\u001b[1;32m   1440\u001b[0m \u001b[0;34m\u001b[0m\u001b[0m\n\u001b[1;32m   1441\u001b[0m \u001b[0;34m\u001b[0m\u001b[0m\n",
      "\u001b[0;31mTypeError\u001b[0m: string operation on non-string array"
     ]
    }
   ],
   "source": [
    "gg=data[:,1]\n",
    "print(gg)"
   ]
  },
  {
   "cell_type": "code",
   "execution_count": 98,
   "metadata": {},
   "outputs": [],
   "source": [
    "import pandas as pd\n",
    "df = pd.read_csv('yahoodata/set1.valid.txt',sep='[:\\s]+', engine=\"python\",header=None,index_col=False)"
   ]
  },
  {
   "cell_type": "code",
   "execution_count": 115,
   "metadata": {},
   "outputs": [],
   "source": [
    "df_spce = pd.read_csv('yahoodata/set1.valid.txt', engine=\"python\",header=None,index_col=False)"
   ]
  },
  {
   "cell_type": "code",
   "execution_count": 124,
   "metadata": {},
   "outputs": [
    {
     "name": "stdout",
     "output_type": "stream",
     "text": [
      "(71083, 1)\n"
     ]
    }
   ],
   "source": [
    "print(df_spce.shape)"
   ]
  },
  {
   "cell_type": "code",
   "execution_count": 125,
   "metadata": {},
   "outputs": [
    {
     "name": "stdout",
     "output_type": "stream",
     "text": [
      "[1 'qid' 19945 1 0.74142 6 0.90265 7 0.8087 8]\n"
     ]
    }
   ],
   "source": [
    "print(df.values[0,0:10])"
   ]
  },
  {
   "cell_type": "code",
   "execution_count": 126,
   "metadata": {},
   "outputs": [],
   "source": [
    "def sort_qid(filename):\n",
    "    df = pd.read_csv(filename,sep='[:\\s]+', engine=\"python\",header=None,index_col=False)\n",
    "    df_origin = pd.read_csv(filename, engine=\"python\",header=None,index_col=False)\n",
    "    ind=np.argsort(df.values[:,2])\n",
    "    df_sort=df_origin.values[ind,:]\n",
    " \n",
    "    np.savetxt(filename+'_sorted', df_sort, delimiter=\" \", fmt=\"%s\") "
   ]
  },
  {
   "cell_type": "code",
   "execution_count": 127,
   "metadata": {},
   "outputs": [],
   "source": [
    "sort_qid(\"MSLR_10k/Fold1/vali.txt\")"
   ]
  },
  {
   "cell_type": "code",
   "execution_count": 128,
   "metadata": {},
   "outputs": [],
   "source": [
    "sort_qid(\"MSLR_10k/Fold1/test.txt\")\n",
    "sort_qid(\"MSLR_10k/Fold1/train.txt\")"
   ]
  },
  {
   "cell_type": "code",
   "execution_count": null,
   "metadata": {},
   "outputs": [],
   "source": []
  },
  {
   "cell_type": "code",
   "execution_count": 96,
   "metadata": {},
   "outputs": [
    {
     "name": "stdout",
     "output_type": "stream",
     "text": [
      "<_sre.SRE_Match object; span=(2, 3), match=' '>\n"
     ]
    }
   ],
   "source": [
    "print(re.search('[:\\s]+', ff))"
   ]
  },
  {
   "cell_type": "code",
   "execution_count": 83,
   "metadata": {},
   "outputs": [
    {
     "name": "stdout",
     "output_type": "stream",
     "text": [
      "['12 qie:3 1:3 ']\n"
     ]
    }
   ],
   "source": [
    "print(gg)"
   ]
  },
  {
   "cell_type": "code",
   "execution_count": 84,
   "metadata": {},
   "outputs": [],
   "source": [
    "import re"
   ]
  },
  {
   "cell_type": "code",
   "execution_count": 89,
   "metadata": {},
   "outputs": [
    {
     "name": "stdout",
     "output_type": "stream",
     "text": [
      "<_sre.SRE_Match object; span=(0, 1), match='1'>\n"
     ]
    }
   ],
   "source": [
    "print(re.search(\"1\",ff))"
   ]
  },
  {
   "cell_type": "code",
   "execution_count": 91,
   "metadata": {},
   "outputs": [
    {
     "name": "stdout",
     "output_type": "stream",
     "text": [
      "<_sre.SRE_Match object; span=(0, 3), match='dog'>\n",
      "(0, 3)\n",
      "dog\n",
      "None\n",
      "None\n",
      "**************************************************\n",
      "<_sre.SRE_Match object; span=(0, 3), match='dog'>\n",
      "<_sre.SRE_Match object; span=(12, 15), match='cat'>\n",
      "(12, 15)\n",
      "cat\n",
      "**************************************************\n"
     ]
    }
   ],
   "source": [
    "import re\n",
    "# regular expression\n",
    "pattern1 = \"dog\"\n",
    "pattern2 = \"cat\"\n",
    "pattern3 = \"bird\"\n",
    "string = \"dog runs to cat\"\n",
    "\n",
    "#如果匹配成功，返回一个匹配的对象，没找到则返回none\n",
    "#re.span方法显示匹配的位置\n",
    "#group(num) 或 groups() 来获取匹配表达式\n",
    "\n",
    "#re.match:匹配string初始位置\n",
    "#re.match(pattern, string, flags=0)\n",
    "#pattern:匹配的正则表达式;string要匹配的字符串;flags标志位，用于控制正则表达式的匹配方式\n",
    "print(re.match(pattern1, string))\n",
    "print(re.match(pattern1, string).span())#span函数显示匹配的位置\n",
    "print(re.match(pattern1, string).group())#groop方法获取正则表达式\n",
    "print(re.match(pattern2, string))\n",
    "print(re.match(pattern3, string))\n",
    "print('*'*50)\n",
    "print(re.search(pattern1, string))  # <_sre.SRE_Match object; span=(12, 15), match='cat'>\n",
    "print(re.search(pattern2, string))  #\n",
    "print(re.search(pattern2, string).span())\n",
    "print(re.search(pattern2, string).group())\n",
    "print('*'*50)\n"
   ]
  },
  {
   "cell_type": "code",
   "execution_count": 104,
   "metadata": {},
   "outputs": [],
   "source": [
    "dd=np.random.randint(1,9,(4))"
   ]
  },
  {
   "cell_type": "code",
   "execution_count": 106,
   "metadata": {},
   "outputs": [
    {
     "name": "stdout",
     "output_type": "stream",
     "text": [
      "[8 3 3 2]\n"
     ]
    },
    {
     "data": {
      "text/plain": [
       "array([3, 1, 2, 0])"
      ]
     },
     "execution_count": 106,
     "metadata": {},
     "output_type": "execute_result"
    }
   ],
   "source": [
    "print(dd)\n",
    "np.argsort(dd)"
   ]
  },
  {
   "cell_type": "code",
   "execution_count": 137,
   "metadata": {},
   "outputs": [
    {
     "name": "stdout",
     "output_type": "stream",
     "text": [
      "0\n",
      "1\n",
      "2\n",
      "0.796875\n"
     ]
    }
   ],
   "source": [
    "def err(rank,K):\n",
    "    output=0\n",
    "    #\n",
    "    rel_max=np.max(rank)\n",
    "    for i in range(K):\n",
    "        print(i)\n",
    "        if i>=rank.shape[0]:\n",
    "            continue\n",
    "        resluts=(2**rank[i]-1)/2**rel_max\n",
    "        if i>0:\n",
    "            resluts=resluts*np.prod(1-(2**rank[0:i]-1)/2**rel_max)/(i+1)\n",
    "        output=output+resluts\n",
    "    return output\n",
    "rank=np.array([2,1,1,1])\n",
    "print(err(rank,3))"
   ]
  },
  {
   "cell_type": "code",
   "execution_count": null,
   "metadata": {},
   "outputs": [],
   "source": [
    "def batch_err(data_file,data_ranked_file,K=1):\n",
    "    n=0\n",
    "    m=0\n",
    "    aver=0\n",
    "    data=IR.np_Read_qd.np_Read_qd(data_file)\n",
    "    data_ranked=IR.np_Read_qd.np_Read_qd(data_ranked_file)\n",
    "    data_ranked_flat=data_ranked[:,0]\n",
    "    unique_indice=np.unique(data[:,1])\n",
    "    for i in range(unique_indice.shape[0]):\n",
    "        #print(unique_indice[i])\n",
    "        ind=np.where(data[:,1]==unique_indice[i])\n",
    "        #print(ind)\n",
    "        #print(data_ranked[ind,:])\n",
    "        score_=data_ranked_flat[ind]\n",
    "        scores_ind=np.argsort(-score_)\n",
    "\n",
    "        #print(score_[scores_ind])\n",
    "        #print(scores_ind)\n",
    "        correl=data[:,0][ind]\n",
    "        #print(np.unique(correl))\n",
    "        if np.unique(correl).shape[0]==1:\n",
    "\n",
    "            continue\n",
    "        n=n+1\n",
    "        #print(correl)\n",
    "        ordered_list=correl[scores_ind]\n",
    "        if ordered_list[0]==np.max(correl):\n",
    "            m=m+1\n",
    "\n",
    "        #print(ordered_list)\n",
    "        #print(ordered_list)\n",
    "        g=IR.Err.err(ordered_list,K)\n",
    "        aver=aver+g\n",
    "        #print(g)\n",
    "    \n",
    "    print(\"for top 1 is\",m,\"out of \",n,\"is correct, and the accuracy is \",float(m)/n)\n",
    "    aver1=aver/n\n",
    "    return aver1"
   ]
  }
 ],
 "metadata": {
  "kernelspec": {
   "display_name": "Python 3",
   "language": "python",
   "name": "python3"
  },
  "language_info": {
   "codemirror_mode": {
    "name": "ipython",
    "version": 3
   },
   "file_extension": ".py",
   "mimetype": "text/x-python",
   "name": "python",
   "nbconvert_exporter": "python",
   "pygments_lexer": "ipython3",
   "version": "3.6.5"
  }
 },
 "nbformat": 4,
 "nbformat_minor": 2
}
