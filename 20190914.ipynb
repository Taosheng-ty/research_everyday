{
 "cells": [
  {
   "cell_type": "code",
   "execution_count": 1,
   "metadata": {},
   "outputs": [
    {
     "name": "stdout",
     "output_type": "stream",
     "text": [
      "processing for top 1  Err\n",
      "for top 1 is 3477 out of  6561 is correct, and the accuracy is  0.5299497027892089\n",
      "processing for top 2  Err\n",
      "for top 1 is 3477 out of  6561 is correct, and the accuracy is  0.5299497027892089\n",
      "processing for top 3  Err\n",
      "for top 1 is 3477 out of  6561 is correct, and the accuracy is  0.5299497027892089\n",
      "processing for top 4  Err\n",
      "for top 1 is 3477 out of  6561 is correct, and the accuracy is  0.5299497027892089\n",
      "processing for top 5  Err\n",
      "for top 1 is 3477 out of  6561 is correct, and the accuracy is  0.5299497027892089\n",
      "processing for top 6  Err\n",
      "for top 1 is 3477 out of  6561 is correct, and the accuracy is  0.5299497027892089\n",
      "processing for top 7  Err\n",
      "for top 1 is 3477 out of  6561 is correct, and the accuracy is  0.5299497027892089\n",
      "processing for top 8  Err\n",
      "for top 1 is 3477 out of  6561 is correct, and the accuracy is  0.5299497027892089\n",
      "processing for top 9  Err\n",
      "for top 1 is 3477 out of  6561 is correct, and the accuracy is  0.5299497027892089\n"
     ]
    }
   ],
   "source": [
    "import numpy as np\n",
    "import Tao_lib.IR as IR\n",
    "\n",
    "   \n",
    "hh=IR.Batch_err.batch_err(\"yahoodata/set1.test.txt\",\"output_svmrank_yahoo/test.predict\",K=np.arange(1,10))\n",
    "    "
   ]
  },
  {
   "cell_type": "code",
   "execution_count": 4,
   "metadata": {},
   "outputs": [
    {
     "data": {
      "image/png": "[encoded data removed]",
      "text/plain": [
       "<Figure size 432x288 with 1 Axes>"
      ]
     },
     "metadata": {
      "needs_background": "light"
     },
     "output_type": "display_data"
    }
   ],
   "source": [
    "import matplotlib.pyplot as plt\n",
    "\n",
    "fig, ax = plt.subplots()\n",
    "ax.plot(np.arange(hh.shape[0])+1,hh,label=\"ERR(k)of set1_test for yahoo ltrc(421M)\\n with method svm_rank\")\n",
    "ax.legend()\n",
    "plt.show()"
   ]
  },
  {
   "cell_type": "code",
   "execution_count": 5,
   "metadata": {},
   "outputs": [],
   "source": [
    "!ln -s /home/u1265233/research/IR/RankLib-2.1-patched.jar /home/u1265233/research/research_everyday/Ranklib"
   ]
  },
  {
   "cell_type": "code",
   "execution_count": 11,
   "metadata": {},
   "outputs": [
    {
     "name": "stdout",
     "output_type": "stream",
     "text": [
      "\n",
      "[+] General Parameters:\n",
      "Training data:\tyahoodata/set1.train.txt\n",
      "Test data:\tyahoodata/set1.test.txt\n",
      "Validation data:\tyahoodata/set1.valid.txt\n",
      "Feature vector representation: Dense.\n",
      "Ranking method:\tLambdaMART\n",
      "Feature description file:\tUnspecified. All features will be used.\n",
      "Train metric:\tNDCG@10\n",
      "Test metric:\tERR@10\n",
      "Highest relevance label (to compute ERR): 4\n",
      "Feature normalization: No\n",
      "Model file: output_lambdaMart_yahoo/mymodel.txt\n",
      "\n",
      "[+] LambdaMART's Parameters:\n",
      "No. of trees: 1000\n",
      "No. of leaves: 10\n",
      "No. of threshold candidates: 256\n",
      "Learning rate: 0.1\n",
      "Stop early: 100 rounds without performance gain on validation data\n",
      "\n",
      "Reading feature file [yahoodata/set1.train.txt]... [Done.]            \n",
      "(19944 ranked lists, 473134 entries read)\n",
      "Reading feature file [yahoodata/set1.valid.txt]... [Done.]            \n",
      "(2994 ranked lists, 71083 entries read)\n",
      "Reading feature file [yahoodata/set1.test.txt]... [Done.]            \n",
      "(6983 ranked lists, 165660 entries read)\n",
      "Initializing... Error in DataPoint::getFeatureValue(): requesting unspecified feature, fid=698\n",
      "System will now exit.\n"
     ]
    }
   ],
   "source": [
    "!java -jar Ranklib -train yahoodata/set1.train.txt -test yahoodata/set1.test.txt -validate yahoodata/set1.valid.txt -ranker 6 -metric2t NDCG@10 -metric2T ERR@10 -save output_lambdaMart_yahoo/mymodel.txt"
   ]
  },
  {
   "cell_type": "code",
   "execution_count": 18,
   "metadata": {},
   "outputs": [
    {
     "name": "stdout",
     "output_type": "stream",
     "text": [
      "train_19944_473105 7:0.67308 11:0.064688 16:0.46957 20:0.77818 26:0.17877 27:0.86619 29:0.61957 33:0.25227 35:0.57877 36:0.81277 42:0.5236 54:0.70988 65:0.29047 68:0.050313 69:0.40925 90:0.4587 97:0.67962 103:0.88586 107:0.04998 119:0.63163 122:0.63612 123:0.58972 126:0.54749 128:0.59295 132:0.47376 134:0.21247 139:0.45073 145:0.58759 146:0.6437 148:0.62744 150:0.57423 152:0.83674 153:0.4115 158:0.43597 160:0.50434 161:0.75466 163:0.82391 166:0.90759 171:0.4454 172:0.13663 176:0.048097 178:0.69099 180:0.6553 186:0.68175 201:0.73928 211:0.71214 215:0.69553 219:0.62196 226:2.6864e-05 234:0.019738 240:0.76346 241:0.8195 242:0.57081 244:0.72132 245:1.592e-05 246:0.11799 247:0.57218 255:0.76577 258:0.21316 259:0.64078 264:0.59467 265:0.4694 266:0.35959 267:0.78147 270:0.58675 275:0.52472 282:0.6004 284:0.61591 286:1.592e-05 299:0.32895 303:0.45073 304:0.0025696 319:0.2404 324:0.39455 328:0.41622 331:0.90266 334:0.80231 336:0.90963 340:0.5222 343:0.29312 344:0.77743 346:0.11995 347:0.6215 348:0.11752 349:0.58294 355:0.51131 358:0.42847 365:0.79861 373:2.1889e-05 375:0.76182 376:3.2834e-05 378:0.77017 380:0.56275 381:0.96213 382:0.36065 383:0.0025696 384:0.54389 392:0.96024 398:0.52744 404:0.35761 413:0.52891 417:0.38231 425:0.75231 432:0.0036246 436:0.048097 441:0.48416 444:0.90989 445:0.91445 449:0.88895 450:0.18058 457:0.84172 460:0.5608 462:0.51083 467:3.6814e-05 471:0.65984 473:0.86387 475:0.91204 479:0.82223 480:0.074687 484:0.61302 485:0.48258 487:3.5819e-05 488:0.96616 498:0.60492 501:0.97677 503:0.75491 506:0.91583 513:0.42767 514:0.55576 526:0.77818 532:0.092149 534:0.96163 536:0.79309 537:0.55173 539:0.048097 540:0.47741 544:0.74147 549:0.73193 555:0.7115 567:0.75202 569:0.048097 573:0.38771 577:0.75007 578:0.77316 584:0.6618 585:0.11995 594:0.72769 595:0.012809 599:0.74838 603:0.55254 604:0.75756 605:0.064736 606:0.048097 610:0.74848 620:0.9836 621:0.64078 626:0.32649 635:1.6915e-05 636:0.89174 637:0.7183 639:0.049733 640:0.60079 641:0.35761 646:0.53874 647:0.0034565 658:0.72482 664:0.60661 668:0.47892 673:0.77788 686:0.78405 689:0.35735 693:0.69345 696:0.046567 698:0.37101\r\n",
      "train_19944_473095 11:0.064688 16:0.5108 26:0.12741 27:0.86619 29:0.28336 33:0.26337 35:0.9777 36:0.31345 42:0.40349 54:0.83776 65:0.19452 68:0.51083 69:0.73172 80:0.97999 90:0.49345 97:0.47326 103:0.80328 105:0.81369 107:0.82922 119:0.8646 122:0.81948 123:0.93675 125:0.5439 126:0.7972 128:0.98289 132:0.93811 134:0.9864 139:0.45073 145:0.47545 146:0.53903 148:0.69324 149:0.97228 150:0.71642 152:0.76686 153:0.30514 158:0.88502 160:0.50434 161:0.86059 162:0.85878 163:0.7811 166:0.67808 171:0.61216 172:0.22034 176:0.048097 178:0.35702 180:0.6553 186:0.39144 201:0.64676 205:0.81369 211:0.18611 214:0.95514 215:0.80688 226:2.6864e-05 234:0.019738 240:0.32338 241:0.8195 242:0.16297 244:0.77713 245:1.592e-05 246:0.11799 247:0.80736 255:0.73369 258:0.21316 259:0.8704 264:0.49086 265:0.92393 266:0.9228 267:0.73055 270:0.58675 275:0.80291 282:0.8173 284:0.61591 286:1.592e-05 296:0.36042 299:0.55389 303:0.45073 304:0.53833 316:0.64739 319:0.2404 324:0.33575 328:0.1565 329:0.6471 331:0.93294 334:0.77451 336:0.98075 340:0.10899 343:0.60094 344:0.94125 346:0.22375 347:0.90082 348:0.1808 349:0.41282 355:0.88656 358:0.32449 365:0.72348 373:2.1889e-05 375:0.93688 376:3.2834e-05 378:0.70068 380:0.67974 381:0.97308 382:0.29325 383:0.53833 384:0.76529 391:0.81369 392:0.96024 398:0.44113 404:0.67088 413:0.8351 417:0.30647 425:0.73336 432:0.0036246 436:0.048097 441:0.94898 444:0.94251 445:0.94819 449:0.93845 450:0.60009 457:0.38075 460:0.70838 462:0.76287 467:3.6814e-05 471:0.65984 473:0.91121 475:0.94391 479:0.82223 480:0.56292 484:0.87234 485:0.79115 487:3.5819e-05 488:0.96616 491:0.96393 493:0.96393 498:0.52802 501:0.97677 503:0.3001 506:0.91583 513:0.42767 514:0.83304 520:0.64617 532:0.61044 534:0.97286 536:0.79309 537:0.30386 539:0.048097 540:0.83819 541:0.57705 549:0.73193 555:0.97473 567:0.9789 569:0.048097 573:0.6252 577:0.58511 578:0.93899 584:0.31898 585:0.22375 594:0.92699 595:0.42801 599:0.74838 603:0.82435 604:0.68122 605:0.87042 606:0.048097 610:0.86065 620:0.9836 621:0.8704 628:0.81369 630:0.64505 635:1.6915e-05 636:0.93967 637:0.83234 639:0.40687 640:0.66934 641:0.93115 646:0.53874 647:0.0034565 658:0.64598 664:0.37079 668:0.47892 673:0.59267 686:0.52738 689:0.87452 693:0.37808 696:0.046567 698:0.60719\r\n"
     ]
    }
   ],
   "source": [
    "!cat DLCM_data/train/train.feature | tail -n 2"
   ]
  },
  {
   "cell_type": "code",
   "execution_count": 23,
   "metadata": {
    "scrolled": true
   },
   "outputs": [
    {
     "name": "stdout",
     "output_type": "stream",
     "text": [
      "19940 294265 294266 294267 294268 294269 294270 294271 294272 294273 294274 294275 294276 294277 294278 294279 294280 294281 294282 294283 294284\r\n",
      "19941 294285 294286 294287 294288 294289 294290 294291 294292 294293 294294 294295 294296 294297 294298 294299 294300 294301 294302 294303 294304\r\n",
      "19942 294305 294306 294307 294308 294309 294310 294311 294312 294313 294314 294315 294316 294317 294318 294319 294320 294321 294322 294323 294324\r\n",
      "19943 294325 294326 294327 294328 294329 294330 294331 294332 294333 294334 294335 294336 294337 294338 294339 294340 294341 294342 294343 294344\r\n",
      "19944 294345 294346 294347 294348 294349 294350 294351 294352 294353 294354 294355 294356 294357 294358 294359 294360 294361 294362 294363 294364\r\n"
     ]
    }
   ],
   "source": [
    "!cat DLCM_data/train/train.init_list | tail -n 5"
   ]
  },
  {
   "cell_type": "code",
   "execution_count": 24,
   "metadata": {},
   "outputs": [
    {
     "name": "stdout",
     "output_type": "stream",
     "text": [
      "19941 0 1 4 3 5 15 2 7 8 9 10 14 19 6 11 12 13 16 17 18\r\n",
      "19942 0 8 2 1 3 4 5 6 9 11 15 16 17 18 7 10 12 13 14 19\r\n",
      "19943 0 1 4 3 5 15 2 7 8 9 10 14 19 6 11 12 13 16 17 18\r\n",
      "19944 0 1 2 4 5 13 3 6 7 8 9 10 11 12 14 15 16 17 18 19\r\n"
     ]
    }
   ],
   "source": [
    "!cat DLCM_data/train/train.gold_list | tail -n 4"
   ]
  },
  {
   "cell_type": "code",
   "execution_count": 22,
   "metadata": {},
   "outputs": [],
   "source": [
    "import Tao_lib.IR.np_Read_qd as np_Read_qd\n",
    "train_ini=np_Read_qd.np_Read_qd(\"DLCM_data/train/train.feature\")"
   ]
  },
  {
   "cell_type": "code",
   "execution_count": 26,
   "metadata": {},
   "outputs": [
    {
     "name": "stdout",
     "output_type": "stream",
     "text": [
      "['train_2_13' 'train_2_10' 'train_2_12' 'train_2_2']\n"
     ]
    }
   ],
   "source": [
    "print(train_ini[1:5,0])"
   ]
  },
  {
   "cell_type": "code",
   "execution_count": 27,
   "metadata": {},
   "outputs": [
    {
     "name": "stdout",
     "output_type": "stream",
     "text": [
      "19941 4.0 4.0 2.0 3.0 4.0 3.0 1.0 2.0 2.0 2.0 2.0 1.0 1.0 1.0 2.0 3.0 1.0 1.0 1.0 2.0\r\n",
      "19942 4.0 2.0 3.0 2.0 2.0 2.0 2.0 1.0 4.0 2.0 1.0 2.0 1.0 1.0 1.0 2.0 2.0 2.0 2.0 1.0\r\n",
      "19943 4.0 4.0 2.0 3.0 4.0 3.0 1.0 2.0 2.0 2.0 2.0 1.0 1.0 1.0 2.0 3.0 1.0 1.0 1.0 2.0\r\n",
      "19944 4.0 4.0 3.0 1.0 2.0 2.0 1.0 1.0 1.0 1.0 1.0 1.0 1.0 2.0 1.0 1.0 1.0 1.0 1.0 1.0\r\n"
     ]
    }
   ],
   "source": [
    "!cat DLCM_data/train/train.weights | tail -n 4"
   ]
  },
  {
   "cell_type": "code",
   "execution_count": 28,
   "metadata": {},
   "outputs": [
    {
     "name": "stdout",
     "output_type": "stream",
     "text": [
      "19941 4.67489249 4.3609391 4.15522049 3.97689561 3.9057987 3.86448331 3.7703193 3.758515 3.69802396 3.66985043 3.57983354 3.55955255 3.4902062 3.43463532 3.4267912 3.36023232 3.3203376 3.26595793 3.24204504 3.22029579\r\n",
      "19942 4.42376141 4.2329714 4.17524075 3.8266868 3.78502038 3.77557732 3.77318876 3.64143915 3.46957887 3.44500062 3.40828537 3.37718573 3.37086236 3.36346113 3.27765802 3.24848188 3.23542925 3.18465428 3.18003535 3.15480384\r\n",
      "19943 4.67489249 4.3609391 4.15522049 3.97689561 3.9057987 3.86448331 3.7703193 3.758515 3.69802396 3.66985043 3.57983354 3.55955255 3.4902062 3.43463532 3.4267912 3.36023232 3.3203376 3.26595793 3.24204504 3.22029579\r\n",
      "19944 5.04912559 4.68933404 4.61871953 4.46233246 4.35129255 4.3481517 4.09903312 3.76724819 3.6846145 3.68445434 3.66594857 3.57653603 3.55719815 3.35711598 3.24275687 3.24042896 3.19594926 3.15285795 3.14422501 3.11039547\r\n"
     ]
    }
   ],
   "source": [
    "!cat DLCM_data/train/train.initial_scores | tail -n 4"
   ]
  },
  {
   "cell_type": "code",
   "execution_count": 33,
   "metadata": {
    "scrolled": true
   },
   "outputs": [
    {
     "name": "stdout",
     "output_type": "stream",
     "text": [
      "19944 0 train_19944_473124 1\r\n",
      "19944 0 train_19944_473125 4\r\n",
      "19944 0 train_19944_473126 0\r\n",
      "19944 0 train_19944_473127 1\r\n",
      "19944 0 train_19944_473128 1\r\n",
      "19944 0 train_19944_473129 1\r\n",
      "19944 0 train_19944_473130 2\r\n",
      "19944 0 train_19944_473131 1\r\n",
      "19944 0 train_19944_473132 1\r\n",
      "19944 0 train_19944_473133 1\r\n"
     ]
    }
   ],
   "source": [
    "!cat DLCM_data/train/train.qrels | tail -n 10"
   ]
  },
  {
   "cell_type": "code",
   "execution_count": 35,
   "metadata": {},
   "outputs": [
    {
     "name": "stdout",
     "output_type": "stream",
     "text": [
      "19944 Q0 train_19944_473125 1 4.0 Gold\r\n",
      "19944 Q0 train_19944_473113 2 4.0 Gold\r\n",
      "19944 Q0 train_19944_473099 3 3.0 Gold\r\n",
      "19944 Q0 train_19944_473119 4 2.0 Gold\r\n",
      "19944 Q0 train_19944_473100 5 2.0 Gold\r\n",
      "19944 Q0 train_19944_473130 6 2.0 Gold\r\n",
      "19944 Q0 train_19944_473106 7 1.0 Gold\r\n",
      "19944 Q0 train_19944_473103 8 1.0 Gold\r\n",
      "19944 Q0 train_19944_473092 9 1.0 Gold\r\n",
      "19944 Q0 train_19944_473120 10 1.0 Gold\r\n",
      "19944 Q0 train_19944_473131 11 1.0 Gold\r\n",
      "19944 Q0 train_19944_473115 12 1.0 Gold\r\n",
      "19944 Q0 train_19944_473128 13 1.0 Gold\r\n",
      "19944 Q0 train_19944_473096 14 1.0 Gold\r\n",
      "19944 Q0 train_19944_473122 15 1.0 Gold\r\n",
      "19944 Q0 train_19944_473114 16 1.0 Gold\r\n",
      "19944 Q0 train_19944_473123 17 1.0 Gold\r\n",
      "19944 Q0 train_19944_473133 18 1.0 Gold\r\n",
      "19944 Q0 train_19944_473105 19 1.0 Gold\r\n",
      "19944 Q0 train_19944_473095 20 1.0 Gold\r\n"
     ]
    }
   ],
   "source": [
    "!cat DLCM_data/train/train.trec.gold_list | tail -n 20"
   ]
  },
  {
   "cell_type": "code",
   "execution_count": 38,
   "metadata": {},
   "outputs": [
    {
     "name": "stdout",
     "output_type": "stream",
     "text": [
      "/usr/local/stow/python/amd64_linux26/python-3.6/lib/python3.6/site-packages/tensorflow/python/framework/dtypes.py:516: FutureWarning: Passing (type, 1) or '1type' as a synonym of type is deprecated; in a future version of numpy, it will be understood as (type, (1,)) / '(1,)type'.\n",
      "  _np_qint8 = np.dtype([(\"qint8\", np.int8, 1)])\n",
      "/usr/local/stow/python/amd64_linux26/python-3.6/lib/python3.6/site-packages/tensorflow/python/framework/dtypes.py:517: FutureWarning: Passing (type, 1) or '1type' as a synonym of type is deprecated; in a future version of numpy, it will be understood as (type, (1,)) / '(1,)type'.\n",
      "  _np_quint8 = np.dtype([(\"quint8\", np.uint8, 1)])\n",
      "/usr/local/stow/python/amd64_linux26/python-3.6/lib/python3.6/site-packages/tensorflow/python/framework/dtypes.py:518: FutureWarning: Passing (type, 1) or '1type' as a synonym of type is deprecated; in a future version of numpy, it will be understood as (type, (1,)) / '(1,)type'.\n",
      "  _np_qint16 = np.dtype([(\"qint16\", np.int16, 1)])\n",
      "/usr/local/stow/python/amd64_linux26/python-3.6/lib/python3.6/site-packages/tensorflow/python/framework/dtypes.py:519: FutureWarning: Passing (type, 1) or '1type' as a synonym of type is deprecated; in a future version of numpy, it will be understood as (type, (1,)) / '(1,)type'.\n",
      "  _np_quint16 = np.dtype([(\"quint16\", np.uint16, 1)])\n",
      "/usr/local/stow/python/amd64_linux26/python-3.6/lib/python3.6/site-packages/tensorflow/python/framework/dtypes.py:520: FutureWarning: Passing (type, 1) or '1type' as a synonym of type is deprecated; in a future version of numpy, it will be understood as (type, (1,)) / '(1,)type'.\n",
      "  _np_qint32 = np.dtype([(\"qint32\", np.int32, 1)])\n",
      "/usr/local/stow/python/amd64_linux26/python-3.6/lib/python3.6/site-packages/tensorflow/python/framework/dtypes.py:525: FutureWarning: Passing (type, 1) or '1type' as a synonym of type is deprecated; in a future version of numpy, it will be understood as (type, (1,)) / '(1,)type'.\n",
      "  np_resource = np.dtype([(\"resource\", np.ubyte, 1)])\n",
      "/usr/local/stow/python/amd64_linux26/python-3.6/lib/python3.6/site-packages/tensorboard/compat/tensorflow_stub/dtypes.py:541: FutureWarning: Passing (type, 1) or '1type' as a synonym of type is deprecated; in a future version of numpy, it will be understood as (type, (1,)) / '(1,)type'.\n",
      "  _np_qint8 = np.dtype([(\"qint8\", np.int8, 1)])\n",
      "/usr/local/stow/python/amd64_linux26/python-3.6/lib/python3.6/site-packages/tensorboard/compat/tensorflow_stub/dtypes.py:542: FutureWarning: Passing (type, 1) or '1type' as a synonym of type is deprecated; in a future version of numpy, it will be understood as (type, (1,)) / '(1,)type'.\n",
      "  _np_quint8 = np.dtype([(\"quint8\", np.uint8, 1)])\n",
      "/usr/local/stow/python/amd64_linux26/python-3.6/lib/python3.6/site-packages/tensorboard/compat/tensorflow_stub/dtypes.py:543: FutureWarning: Passing (type, 1) or '1type' as a synonym of type is deprecated; in a future version of numpy, it will be understood as (type, (1,)) / '(1,)type'.\n",
      "  _np_qint16 = np.dtype([(\"qint16\", np.int16, 1)])\n",
      "/usr/local/stow/python/amd64_linux26/python-3.6/lib/python3.6/site-packages/tensorboard/compat/tensorflow_stub/dtypes.py:544: FutureWarning: Passing (type, 1) or '1type' as a synonym of type is deprecated; in a future version of numpy, it will be understood as (type, (1,)) / '(1,)type'.\n",
      "  _np_quint16 = np.dtype([(\"quint16\", np.uint16, 1)])\n",
      "/usr/local/stow/python/amd64_linux26/python-3.6/lib/python3.6/site-packages/tensorboard/compat/tensorflow_stub/dtypes.py:545: FutureWarning: Passing (type, 1) or '1type' as a synonym of type is deprecated; in a future version of numpy, it will be understood as (type, (1,)) / '(1,)type'.\n",
      "  _np_qint32 = np.dtype([(\"qint32\", np.int32, 1)])\n",
      "/usr/local/stow/python/amd64_linux26/python-3.6/lib/python3.6/site-packages/tensorboard/compat/tensorflow_stub/dtypes.py:550: FutureWarning: Passing (type, 1) or '1type' as a synonym of type is deprecated; in a future version of numpy, it will be understood as (type, (1,)) / '(1,)type'.\n",
      "  np_resource = np.dtype([(\"resource\", np.ubyte, 1)])\n",
      "WARNING: Logging before flag parsing goes to stderr.\n",
      "W0914 17:47:24.307807 140662364890944 deprecation_wrapper.py:119] From DLCM/main.py:246: The name tf.app.run is deprecated. Please use tf.compat.v1.app.run instead.\n",
      "\n",
      "Reading data in ./DLCM_data/\n",
      "Traceback (most recent call last):\n",
      "  File \"DLCM/main.py\", line 246, in <module>\n",
      "    tf.app.run()\n",
      "  File \"/usr/local/stow/python/amd64_linux26/python-3.6/lib/python3.6/site-packages/tensorflow/python/platform/app.py\", line 40, in run\n",
      "    _run(main=main, argv=argv, flags_parser=_parse_flags_tolerate_undef)\n",
      "  File \"/usr/local/stow/python/amd64_linux26/python-3.6/lib/python3.6/site-packages/absl/app.py\", line 300, in run\n",
      "    _run_main(main, args)\n",
      "  File \"/usr/local/stow/python/amd64_linux26/python-3.6/lib/python3.6/site-packages/absl/app.py\", line 251, in _run_main\n",
      "    sys.exit(main(argv))\n",
      "  File \"DLCM/main.py\", line 243, in main\n",
      "    train()\n",
      "  File \"DLCM/main.py\", line 79, in train\n",
      "    train_set = data_utils.read_data(FLAGS.data_dir, 'train')\n",
      "  File \"/home/u1265233/research/IR/Deep-Listwise-Context-Model-for-Ranking-Refinement/DLCM/data_utils.py\", line 121, in read_data\n",
      "    data = Raw_data(data_path, file_prefix)\n",
      "  File \"/home/u1265233/research/IR/Deep-Listwise-Context-Model-for-Ranking-Refinement/DLCM/data_utils.py\", line 44, in __init__\n",
      "    self.features.append([0.0 for _ in xrange(self.embed_size)])\n",
      "NameError: name 'xrange' is not defined\n"
     ]
    }
   ],
   "source": [
    "!python2 DLCM/main.py  --data_dir ./DLCM_data/ --train_dir DLCM_output/ --test_dir /DLCM_output"
   ]
  },
  {
   "cell_type": "code",
   "execution_count": 37,
   "metadata": {},
   "outputs": [
    {
     "name": "stdout",
     "output_type": "stream",
     "text": [
      "20190912.ipynb\tDLCM_data   SVM_rank_py\t\t     svm_rank\r\n",
      "20190913.ipynb\tDLCM_ouput  output_lambdaMart_yahoo  tosee_data.ipynb\r\n",
      "20190914.ipynb\tMSLR_10k    output_svmrank_mslr_ten  yahoodata\r\n",
      "DLCM\t\tRanklib     output_svmrank_yahoo\r\n"
     ]
    }
   ],
   "source": [
    "!ls"
   ]
  },
  {
   "cell_type": "code",
   "execution_count": null,
   "metadata": {},
   "outputs": [],
   "source": []
  }
 ],
 "metadata": {
  "kernelspec": {
   "display_name": "Python 3",
   "language": "python",
   "name": "python3"
  },
  "language_info": {
   "codemirror_mode": {
    "name": "ipython",
    "version": 3
   },
   "file_extension": ".py",
   "mimetype": "text/x-python",
   "name": "python",
   "nbconvert_exporter": "python",
   "pygments_lexer": "ipython3",
   "version": "3.6.5"
  }
 },
 "nbformat": 4,
 "nbformat_minor": 2
}
